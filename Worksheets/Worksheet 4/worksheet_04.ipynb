{
 "cells": [
  {
   "attachments": {},
   "cell_type": "markdown",
   "metadata": {},
   "source": [
    "# Worksheet 04\n",
    "\n",
    "Name: Mohit Sai Gutha \n",
    "UID: U48519832\n",
    "\n",
    "### Topics\n",
    "\n",
    "- Distance & Similarity"
   ]
  },
  {
   "cell_type": "markdown",
   "metadata": {},
   "source": [
    "### Distance & Similarity\n",
    "\n",
    "#### Part 1\n",
    "\n",
    "a) In the minkowski distance, describe what the parameters p and d are."
   ]
  },
  {
   "cell_type": "markdown",
   "metadata": {},
   "source": [
    "In the Minkowski distance formula, the parameter \"p\" must be equal to or greater than 1 and is subjet to choice. Specifically, \"p\" influences the type of distance calculated: when \"p\" equals 2, the distance corresponds to Euclidean Distance, and when \"p\" equals 1, it corresponds to Manhattan Distance. Meanwhile, \"d\" denotes the dimensionality of the space under consideration. For instance, if \"d\" equals 3, we are working within a three-dimensional space."
   ]
  },
  {
   "cell_type": "markdown",
   "metadata": {},
   "source": [
    "b) In your own words describe the difference between the Euclidean distance and the Manhattan distance."
   ]
  },
  {
   "cell_type": "markdown",
   "metadata": {},
   "source": [
    "Manhattan Distance measures the shortest distance in a grid based space. It is basically the minimum number of movements required to get from point A to point B moving along a grid like path (either in zig zag line or a straight line).\n",
    "\n",
    "Euclidean Distance is the shortest distance between the two points i.e. the length of the line segment connecting the two points in 2D space."
   ]
  },
  {
   "attachments": {},
   "cell_type": "markdown",
   "metadata": {},
   "source": [
    "Consider A = (0, 0) and B = (1, 1). When:\n",
    "\n",
    "- p = 1, d(A, B) = 2\n",
    "- p = 2, d(A, B) = $\\sqrt{2} = 1.41$\n",
    "- p = 3, d(A, B) = $2^{1/3} = 1.26$\n",
    "- p = 4, d(A, B) = $2^{1/4} = 1.19$\n",
    "\n",
    "c) Describe what you think distance would look like when p is very large."
   ]
  },
  {
   "cell_type": "markdown",
   "metadata": {},
   "source": [
    "As p grows very large, the distance approaches 1. "
   ]
  },
  {
   "cell_type": "markdown",
   "metadata": {},
   "source": [
    "d) Is the minkowski distance still a distance function when p < 1? Expain why / why not."
   ]
  },
  {
   "cell_type": "markdown",
   "metadata": {},
   "source": [
    "When p < 1, the minkowski distance isn't a distance function as it then violates the triangle inequality because in this situation the direct distance from B to C will be greater than the distance between B to C through A."
   ]
  },
  {
   "cell_type": "markdown",
   "metadata": {},
   "source": [
    "e) when would you use cosine similarity over the euclidan distance?"
   ]
  },
  {
   "cell_type": "markdown",
   "metadata": {},
   "source": [
    "When the direction is of more importance to the context than the magnitude, we use cosine similarity over euclidan distance."
   ]
  },
  {
   "cell_type": "markdown",
   "metadata": {},
   "source": [
    "f) what does the jaccard distance account for that the manhattan distance doesn't?"
   ]
  },
  {
   "cell_type": "markdown",
   "metadata": {},
   "source": [
    "Jaccard distance accounts for the differences of data sets in terms of the size of the intersection while the manhattan distance doesn't."
   ]
  },
  {
   "attachments": {},
   "cell_type": "markdown",
   "metadata": {},
   "source": [
    "#### Part 2\n",
    "\n",
    "Consider the following two sentences:"
   ]
  },
  {
   "cell_type": "code",
   "execution_count": 56,
   "metadata": {},
   "outputs": [],
   "source": [
    "s1 = \"hello my name is Alice\"  \n",
    "s2 = \"hello my name is Bob\""
   ]
  },
  {
   "cell_type": "markdown",
   "metadata": {},
   "source": [
    "using the union of words from both sentences, we can represent each sentence as a vector. Each element of the vector represents the presence or absence of the word at that index.\n",
    "\n",
    "In this example, the union of words is (\"hello\", \"my\", \"name\", \"is\", \"Alice\", \"Bob\") so we can represent the above sentences as such:"
   ]
  },
  {
   "cell_type": "code",
   "execution_count": 57,
   "metadata": {},
   "outputs": [],
   "source": [
    "v1 = [1,    1, 1,   1, 1,    0]\n",
    "#     hello my name is Alice\n",
    "v2 = [1,    1, 1,   1, 0, 1]\n",
    "#     hello my name is    Bob"
   ]
  },
  {
   "attachments": {},
   "cell_type": "markdown",
   "metadata": {},
   "source": [
    "Programmatically, we can do the following:"
   ]
  },
  {
   "cell_type": "code",
   "execution_count": 58,
   "metadata": {},
   "outputs": [
    {
     "name": "stdout",
     "output_type": "stream",
     "text": [
      "['Alice', 'hello', 'name', 'is', 'my', 'Bob']\n",
      "[1, 1, 1, 1, 1, 0]\n"
     ]
    }
   ],
   "source": [
    "corpus = [s1, s2]\n",
    "all_words = list(set([item for x in corpus for item in x.split()]))\n",
    "print(all_words)\n",
    "v1 = [1 if x in s1 else 0 for x in all_words]\n",
    "print(v1)"
   ]
  },
  {
   "cell_type": "markdown",
   "metadata": {},
   "source": [
    "Let's add a new sentence to our corpus:"
   ]
  },
  {
   "cell_type": "code",
   "execution_count": 59,
   "metadata": {},
   "outputs": [],
   "source": [
    "s3 = \"hi my name is Claude\"\n",
    "corpus.append(s3)"
   ]
  },
  {
   "cell_type": "markdown",
   "metadata": {},
   "source": [
    "a) What is the new union of words used to represent s1, s2, and s3?"
   ]
  },
  {
   "cell_type": "code",
   "execution_count": 60,
   "metadata": {},
   "outputs": [
    {
     "name": "stdout",
     "output_type": "stream",
     "text": [
      "['Alice', 'hello', 'name', 'Claude', 'is', 'hi', 'my', 'Bob']\n"
     ]
    }
   ],
   "source": [
    "all_words = list(set([item for x in corpus for item in x.split()]))\n",
    "print(all_words)"
   ]
  },
  {
   "attachments": {},
   "cell_type": "markdown",
   "metadata": {},
   "source": [
    "b) Represent s1, s2, and s3 as vectors as above, using this new set of words."
   ]
  },
  {
   "cell_type": "code",
   "execution_count": 61,
   "metadata": {},
   "outputs": [
    {
     "name": "stdout",
     "output_type": "stream",
     "text": [
      "[1, 1, 1, 0, 1, 0, 1, 0]\n",
      "[0, 1, 1, 0, 1, 0, 1, 1]\n",
      "[0, 0, 1, 1, 1, 1, 1, 0]\n"
     ]
    }
   ],
   "source": [
    "v1 = [1 if x in s1 else 0 for x in all_words]\n",
    "print(v1)\n",
    "v2 = [1 if x in s2 else 0 for x in all_words]\n",
    "print(v2)\n",
    "v3 = [1 if x in s3 else 0 for x in all_words]\n",
    "print(v3)"
   ]
  },
  {
   "cell_type": "markdown",
   "metadata": {},
   "source": [
    "c) Write a function that computes the manhattan distance between two vectors. Which pair of vectors are the most similar under that distance function?"
   ]
  },
  {
   "cell_type": "code",
   "execution_count": 62,
   "metadata": {},
   "outputs": [
    {
     "name": "stdout",
     "output_type": "stream",
     "text": [
      "2.0\n",
      "1.4142135623730951\n"
     ]
    }
   ],
   "source": [
    "def minkowski(x, y, p):\n",
    "    if p < 1:\n",
    "        raise ValueError(\"p must be greater than 1\")\n",
    "    if len(x) != len(y):\n",
    "        raise ValueError(\"The dimensions are supposed to be the same for both x and y\")\n",
    "    res = 0\n",
    "    for i in range(len(x)):\n",
    "        res += abs(x[i]-y[i]) ** p\n",
    "    return((res**(1/p)))\n",
    "\n",
    "def manhattan(x, y):\n",
    "    return minkowski(x, y, 1)\n",
    "\n",
    "print(manhattan([0,0], [1,1]))\n",
    "print(minkowski([0,0], [1,1], 2))"
   ]
  },
  {
   "cell_type": "markdown",
   "metadata": {},
   "source": []
  },
  {
   "cell_type": "markdown",
   "metadata": {},
   "source": [
    "d) Create a matrix of all these vectors (row major) and add the following sentences in vector form:\n",
    "\n",
    "- \"hi Alice\"\n",
    "- \"hello Claude\"\n",
    "- \"Bob my name is Claude\"\n",
    "- \"hi Claude my name is Alice\"\n",
    "- \"hello Bob\""
   ]
  },
  {
   "cell_type": "code",
   "execution_count": 63,
   "metadata": {},
   "outputs": [
    {
     "name": "stdout",
     "output_type": "stream",
     "text": [
      "[1, 0, 0, 0, 0, 1, 0, 0]\n",
      "[0, 1, 0, 1, 0, 0, 0, 0]\n",
      "[0, 0, 1, 1, 1, 0, 1, 1]\n",
      "[1, 0, 1, 1, 1, 1, 1, 0]\n",
      "[0, 1, 0, 0, 0, 0, 0, 1]\n"
     ]
    }
   ],
   "source": [
    "s1 = \"hi Alice\"\n",
    "s2 = \"hello Claude\"\n",
    "s3 = \"Bob my name is Claude\"\n",
    "s4 = \"hi Claude my name is Alice\"\n",
    "s5 = \"hello Bob\"\n",
    "corpus = [s1, s2, s3, s4, s5]\n",
    "all_words = list(set([item for x in corpus for item in x.split()]))\n",
    "\n",
    "matrix = []\n",
    "for s in corpus:\n",
    "    vector = [1 if x in s else 0 for x in all_words]\n",
    "    matrix.append(vector)\n",
    "    print(vector)"
   ]
  },
  {
   "cell_type": "markdown",
   "metadata": {},
   "source": [
    "e) How many rows and columns does this matrix have?"
   ]
  },
  {
   "cell_type": "code",
   "execution_count": 64,
   "metadata": {},
   "outputs": [
    {
     "name": "stdout",
     "output_type": "stream",
     "text": [
      "The matrix has 5 rows and 8 columns.\n"
     ]
    }
   ],
   "source": [
    "rows = len(matrix)\n",
    "columns = len(matrix[0])\n",
    "print(\"The matrix has \" + str(rows) + \" rows and \" + str(columns) + \" columns.\")"
   ]
  },
  {
   "attachments": {},
   "cell_type": "markdown",
   "metadata": {},
   "source": [
    "f) When using the Manhattan distance, which two sentences are the most similar?"
   ]
  },
  {
   "cell_type": "code",
   "execution_count": 65,
   "metadata": {},
   "outputs": [
    {
     "name": "stdout",
     "output_type": "stream",
     "text": [
      "When using Manhattan distance, sentences \"hello Claude\" and \"hello Bob\" are similar.\n"
     ]
    }
   ],
   "source": [
    "minimum = manhattan(matrix[0], matrix[1])\n",
    "vectors = (0, 1)\n",
    "for i in range(1, len(matrix)):\n",
    "    for j in range(i, len(matrix)):\n",
    "        if i != j:\n",
    "            distance = manhattan(matrix[i], matrix[j])\n",
    "            if minimum > distance:\n",
    "                minimum = distance\n",
    "                vectors = (i, j)\n",
    "print(f\"When using Manhattan distance, sentences \\\"{corpus[vectors[0]]}\\\" and \\\"{corpus[vectors[1]]}\\\" are similar.\")"
   ]
  },
  {
   "cell_type": "markdown",
   "metadata": {},
   "source": [
    "#### Part 3 Challenge"
   ]
  },
  {
   "cell_type": "markdown",
   "metadata": {},
   "source": [
    "Given a set of graphs $\\mathcal{G}$, each graph $G \\in \\mathcal{G}$ is defined over the same set of nodes $V$. The graphs are represented by their adjacency matrices, which are 2D arrays where each element indicates whether a pair of nodes is connected by an edge.\n",
    "\n",
    "Your task is to compute the pairwise distances between these graphs based on a specific distance metric. The distance $d(G, G')$ between two graphs $G = (V, E)$ and $G' = (V, E')$ is defined as the sum of the number of edges in $G$ but not in $G'$, and the number of edges in $G'$ but not in $G$. Mathematically, this can be expressed as:\n",
    "\n",
    "$$\n",
    "d(G, G') = |E \\setminus E'| + |E' \\setminus E|.\n",
    "$$\n",
    "\n",
    "##### Requirements:\n",
    "1. **Input**: Should take a list of 2D numpy arrays as input. Each array represents the adjacency matrix of a graph.\n",
    "\n",
    "2. **Output**: Should output a pairwise distance matrix. If there are $n$ graphs in the input list, the output should be an $n \\times n$ matrix where the entry at position $(i, j)$ represents the distance between the $i^{th}$ and $j^{th}$ graph."
   ]
  },
  {
   "cell_type": "code",
   "execution_count": 66,
   "metadata": {},
   "outputs": [
    {
     "name": "stdout",
     "output_type": "stream",
     "text": [
      "Pairwise Distance Matrix:\n",
      "[[0 2 3]\n",
      " [2 0 3]\n",
      " [3 3 0]]\n"
     ]
    }
   ],
   "source": [
    "import numpy as np\n",
    "\n",
    "def compute_pairwise_distances(graphs):\n",
    "\n",
    "    n = len(graphs) #number of graphs in the input list\n",
    "    pairwise_distance_matrix = np.zeros((n, n), dtype=int) #initializing an n x n output matrix\n",
    "    for i in range(n):\n",
    "        for j in range(n):\n",
    "            pairwise_distance_matrix[i, j] = np.sum(np.abs(graphs[i] - graphs[j]))\n",
    "    \n",
    "    return pairwise_distance_matrix\n",
    "\n",
    "#my own test code as suggested by professor\n",
    "#three 2x3 graphs\n",
    "#expected output - [[0,2,3], [2,0,3], [3,3,0]]\n",
    "graph1 = np.array([[0, 1, 0],\n",
    "                   [1, 0, 1]])\n",
    "\n",
    "graph2 = np.array([[0, 1, 1],\n",
    "                   [1, 0, 0]])\n",
    "\n",
    "graph3 = np.array([[0, 0, 1],\n",
    "                   [0, 0, 1]])\n",
    "\n",
    "\n",
    "input_list = [graph1, graph2, graph3]\n",
    "\n",
    "# Compute pairwise distances\n",
    "pairwise_distance_matrix = compute_pairwise_distances(input_list)\n",
    "print(\"Pairwise Distance Matrix:\")\n",
    "print(pairwise_distance_matrix)\n"
   ]
  }
 ],
 "metadata": {
  "kernelspec": {
   "display_name": "Python 3",
   "language": "python",
   "name": "python3"
  },
  "language_info": {
   "codemirror_mode": {
    "name": "ipython",
    "version": 3
   },
   "file_extension": ".py",
   "mimetype": "text/x-python",
   "name": "python",
   "nbconvert_exporter": "python",
   "pygments_lexer": "ipython3",
   "version": "3.9.6"
  },
  "orig_nbformat": 4,
  "vscode": {
   "interpreter": {
    "hash": "76ca05dc3ea24b2e3b98cdb7774adfbb40773424bf5109b477fd793f623715af"
   }
  }
 },
 "nbformat": 4,
 "nbformat_minor": 2
}
